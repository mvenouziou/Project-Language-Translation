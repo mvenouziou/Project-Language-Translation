{
  "nbformat": 4,
  "nbformat_minor": 0,
  "metadata": {
    "colab": {
      "name": "text_translator.ipynb",
      "provenance": [],
      "collapsed_sections": [],
      "include_colab_link": true
    },
    "kernelspec": {
      "display_name": "Python 3",
      "name": "python3"
    },
    "accelerator": "GPU"
  },
  "cells": [
    {
      "cell_type": "markdown",
      "metadata": {
        "id": "view-in-github",
        "colab_type": "text"
      },
      "source": [
        "<a href=\"https://colab.research.google.com/github/mvenouziou/Project-Language-Translation/blob/main/text_translator.ipynb\" target=\"_parent\"><img src=\"https://colab.research.google.com/assets/colab-badge.svg\" alt=\"Open In Colab\"/></a>"
      ]
    },
    {
      "cell_type": "markdown",
      "metadata": {
        "id": "vsX0L1sG1iZj"
      },
      "source": [
        "# Neural translation model\n",
        "\n",
        "*Capstone Project for Imperial College London's \"Customising your models with TensorFlow 2\" course on Coursera.*\n",
        "\n",
        "The following program is my a translation model to convert English sentences into German. It consists of an RNN encoders and decoders. \n",
        "\n",
        "\n",
        "\n",
        "---\n",
        "\n",
        "\n",
        "*Credits:*\n",
        "\n",
        "*- This was a course capstone project, where the necessary steps were outlined by the course instructor. RNN diagrams and a small number of functions were provided by the instructor, and are noted as such within their function descriptions. Otherwise, this is my own work based on techniques taught in the course.*\n",
        "\n",
        "*- Course info: www.coursera.org/account/accomplishments/verify/3X7RJ4S9ZLEK.*\n",
        "\n",
        "*- The dataset consists of English/German sentence pairs from the Tatoeba Project. *(www.manythings.org/anki)*\n",
        "\n",
        "*- The encoder utilizes pretrained embeddings from Tensorflow Hub, https://tfhub.dev/google/nnlm-en-dim128/1. They cite Yoshua Bengio, Réjean Ducharme, Pascal Vincent and Christian Jauvin's paper, A Neural Probabilistic Language Model. Journal of Machine Learning Research, 3:1137-1155, 2003.*"
      ]
    },
    {
      "cell_type": "code",
      "metadata": {
        "id": "2VyTvxPN1iZn",
        "colab": {
          "base_uri": "https://localhost:8080/"
        },
        "outputId": "12cf8227-5f32-48c0-ff92-d3995a68cca1"
      },
      "source": [
        "# ML\n",
        "import tensorflow as tf\n",
        "from tensorflow.keras.layers import Layer\n",
        "from tensorflow.keras.callbacks import ModelCheckpoint \n",
        "\n",
        "# pretrained models\n",
        "import tensorflow_hub as hub\n",
        "!pip install tensorflow_text -q\n",
        "import tensorflow_text as text\n",
        "\n",
        "# data handling\n",
        "import numpy as np\n",
        "import pandas as pd\n",
        "import unicodedata\n",
        "import re\n",
        "import string\n",
        "\n",
        "# visualiztion\n",
        "from IPython.display import Image\n",
        "import matplotlib.pyplot as plt\n",
        "import seaborn as sns"
      ],
      "execution_count": 1,
      "outputs": [
        {
          "output_type": "stream",
          "text": [
            "\u001b[K     |████████████████████████████████| 3.4MB 9.0MB/s \n",
            "\u001b[?25h"
          ],
          "name": "stdout"
        }
      ]
    },
    {
      "cell_type": "markdown",
      "metadata": {
        "id": "359s_BtrILBP"
      },
      "source": [
        "Global Paramaters"
      ]
    },
    {
      "cell_type": "code",
      "metadata": {
        "id": "OwkwE7B9iFYi"
      },
      "source": [
        "# GLOBAL PARAMATERS\r\n",
        "ENGLIGH_SENT_TRUNC = 13\r\n",
        "GERMAN_SENT_TRUNC = 16\r\n",
        "MAX_GERMAN_VOCAB_SIZE = None  # sets other words to unknown. Does NOT affect final Dense layer\r\n",
        "EMBEDDING_DIM = 128\r\n",
        "# warning: num examples dramatically affects vocab length, which affects final Dense layer\r\n",
        "# keep at around 20,000 or use high RAM environment\r\n",
        "NUM_EXAMPLES = 20000 # max possible= 100,000\r\n",
        "BATCH_SIZE = 16\r\n",
        "MASK_VALUE = 0\r\n",
        "LSTM_ACTIVATIONS=512"
      ],
      "execution_count": 2,
      "outputs": []
    },
    {
      "cell_type": "markdown",
      "metadata": {
        "id": "pi9Dq6vv3FVO"
      },
      "source": [
        "File paths for data and checkpoints"
      ]
    },
    {
      "cell_type": "code",
      "metadata": {
        "id": "Nw99tEEQ3bKL",
        "colab": {
          "base_uri": "https://localhost:8080/"
        },
        "outputId": "03e8d0fa-eca2-432b-8402-1671fb2f1f04"
      },
      "source": [
        "# Load Google Drive\n",
        "from google.colab import drive\n",
        "GDRIVE_DIR ='/content/gdrive/' \n",
        "drive.mount(GDRIVE_DIR)\n",
        "\n",
        "FILEPATH = GDRIVE_DIR + 'MyDrive/Colab_Notebooks/models/text_translation'\n",
        "CHECKPOINT_DIR = FILEPATH + '/checkpoints/'\n",
        "CACHE_DIR = FILEPATH + '/cache/'\n",
        "PREDICTION_MODEL_DIR = FILEPATH + '/prediction_model/'\n",
        "TRAINING_MODEL_DIR = FILEPATH + '/training_model/'\n",
        "DATASETS_DIR = FILEPATH + '/datasets/'"
      ],
      "execution_count": 3,
      "outputs": [
        {
          "output_type": "stream",
          "text": [
            "Mounted at /content/gdrive/\n"
          ],
          "name": "stdout"
        }
      ]
    },
    {
      "cell_type": "markdown",
      "metadata": {
        "id": "PYNaPz3fgP2a"
      },
      "source": [
        "###Load Dataset\r\n",
        "\r\n",
        "*(Loader function provided by instuctor)*"
      ]
    },
    {
      "cell_type": "code",
      "metadata": {
        "id": "o8PetPpw1iZu"
      },
      "source": [
        "# Run this cell to load the dataset\n",
        "\n",
        "def load_text_data(num_examples=NUM_EXAMPLES, filepath= DATASETS_DIR + 'deu.txt'):\n",
        "    data_examples = []\n",
        "\n",
        "    with open(filepath, 'r', encoding='utf8') as f:\n",
        "        for line in f.readlines():\n",
        "            if len(data_examples) < num_examples:\n",
        "                data_examples.append(line)\n",
        "            else:\n",
        "                break\n",
        "\n",
        "    return data_examples"
      ],
      "execution_count": 4,
      "outputs": []
    },
    {
      "cell_type": "code",
      "metadata": {
        "id": "oz07RXOD4Xc4",
        "colab": {
          "base_uri": "https://localhost:8080/",
          "height": 36
        },
        "outputId": "ded9aa58-9b1b-433b-8aa4-7fcc31193e32"
      },
      "source": [
        "data_examples = load_text_data()\r\n",
        "data_examples[0].split('\\t')[1]"
      ],
      "execution_count": 5,
      "outputs": [
        {
          "output_type": "execute_result",
          "data": {
            "application/vnd.google.colaboratory.intrinsic+json": {
              "type": "string"
            },
            "text/plain": [
              "'Hallo!'"
            ]
          },
          "metadata": {
            "tags": []
          },
          "execution_count": 5
        }
      ]
    },
    {
      "cell_type": "markdown",
      "metadata": {
        "id": "XFJap-TW1iZ2"
      },
      "source": [
        "###Translation model architecture\n",
        "\n",
        "*(Diagram of model architecture provided by instructor)*"
      ]
    },
    {
      "cell_type": "code",
      "metadata": {
        "id": "gBF1K2JN4RFJ",
        "colab": {
          "base_uri": "https://localhost:8080/",
          "height": 517
        },
        "outputId": "6472a749-1a9e-48ee-ef04-379683e27327"
      },
      "source": [
        "# download / view schematic diagram for the full neural translation model\n",
        "!wget -q -O neural_translation_model.png --no-check-certificate \"https://docs.google.com/uc?export=download&id=1XsS1VlXoaEo-RbYNilJ9jcscNZvsSPmd\"\n",
        "Image(\"neural_translation_model.png\")"
      ],
      "execution_count": 6,
      "outputs": [
        {
          "output_type": "execute_result",
          "data": {
            "image/png": "[encoded data removed]",
            "text/plain": [
              "<IPython.core.display.Image object>"
            ]
          },
          "metadata": {
            "tags": []
          },
          "execution_count": 6
        }
      ]
    },
    {
      "cell_type": "markdown",
      "metadata": {
        "id": "z70nu6_01iZ3"
      },
      "source": [
        "## 1. Text preprocessing"
      ]
    },
    {
      "cell_type": "markdown",
      "metadata": {
        "id": "XZh8KAyhgtzI"
      },
      "source": [
        "*Prelimenary text cleanup functions provided by instuctor*"
      ]
    },
    {
      "cell_type": "code",
      "metadata": {
        "id": "JumLjJ631iZy"
      },
      "source": [
        "# These functions preprocess English and German sentences\n",
        "def unicode_to_ascii(s):\n",
        "    return ''.join(c for c in unicodedata.normalize('NFD', s) \n",
        "                    if unicodedata.category(c) != 'Mn')\n",
        "\n",
        "\n",
        "def preprocess_sentence(sentence):\n",
        "\n",
        "    sentence = sentence.lower().strip()\n",
        "\n",
        "    # adjusts for letters that don't appear in English alphabet\n",
        "    sentence = re.sub(r\"ü\", 'ue', sentence)  \n",
        "    sentence = re.sub(r\"ä\", 'ae', sentence)\n",
        "    sentence = re.sub(r\"ö\", 'oe', sentence)\n",
        "    sentence = re.sub(r'ß', 'ss', sentence)\n",
        "    \n",
        "    sentence = unicode_to_ascii(sentence)\n",
        "    sentence = re.sub(r\"([?.!,])\", r\" \\1 \", sentence)\n",
        "    sentence = re.sub(r\"[^a-z?.!,']+\", \" \", sentence)\n",
        "    sentence = re.sub(r'[\" \"]+', \" \", sentence)\n",
        "    \n",
        "    return sentence.strip()"
      ],
      "execution_count": 7,
      "outputs": []
    },
    {
      "cell_type": "markdown",
      "metadata": {
        "id": "M0bmGE--gk_j"
      },
      "source": [
        "Separate English and German sentences and add start/end tokens to German text"
      ]
    },
    {
      "cell_type": "code",
      "metadata": {
        "id": "VBf8r7816Ayh"
      },
      "source": [
        "def separate_and_process(tab_delim_data, start_indicator='<SOS>', \r\n",
        "                         end_indicator='<EOS>'):\r\n",
        "    \r\n",
        "    phrases = {}\r\n",
        "\r\n",
        "    for language in ['English', 'German']:\r\n",
        "    \r\n",
        "        if language == 'English':\r\n",
        "            indx = 0\r\n",
        "            start = ''  # not using start / end tokens\r\n",
        "            end= ''\r\n",
        "        elif language == 'German':\r\n",
        "            indx = 1\r\n",
        "            start = start_indicator  # start of sentence token\r\n",
        "            end = end_indicator  # end of sentence token\r\n",
        "        \r\n",
        "        phrases[language] = [tab_delim_data[i].split('\\t')[indx]\r\n",
        "                for i in range(len(tab_delim_data))]\r\n",
        "\r\n",
        "        if language=='German':\r\n",
        "            phrases[language]  = \\\r\n",
        "                [' '.join([start, preprocess_sentence(sentence), end]) \r\n",
        "                 for sentence in phrases[language]]\r\n",
        "\r\n",
        "    return phrases['English'], phrases['German']\r\n"
      ],
      "execution_count": 8,
      "outputs": []
    },
    {
      "cell_type": "markdown",
      "metadata": {
        "id": "BTxg4gp0g6iA"
      },
      "source": [
        "Tokenize German sentences"
      ]
    },
    {
      "cell_type": "code",
      "metadata": {
        "id": "3Aag5mnRbyAZ"
      },
      "source": [
        "# split words from punctuation and spaces\r\n",
        "def separate_on_punc(sometext, tf_version=False):\r\n",
        "    pattern = r\"[\\w']+|[.,!?;]\"\r\n",
        "    \r\n",
        "    if tf_version:\r\n",
        "        tokenizer = text.UnicodeScriptTokenizer()\r\n",
        "        sometext = tokenizer.tokenize(sometext)\r\n",
        "\r\n",
        "    else:\r\n",
        "        sometext = re.findall(pattern, sometext)   \r\n",
        "    return sometext\r\n",
        "\r\n",
        "\r\n",
        "# creating tokenizer vocabulary\r\n",
        "def create_vocab(text_list):\r\n",
        "\r\n",
        "    # extract words from text list\r\n",
        "    vocab = []\r\n",
        "    [vocab.extend(sentence.split(' ')) for sentence in text_list]\r\n",
        "\r\n",
        "    # remove punctionation and drop duplicate words\r\n",
        "    vocab = ' '.join(vocab)\r\n",
        "    vocab = separate_on_punc(vocab)\r\n",
        "    vocab = list(set(vocab))\r\n",
        "\r\n",
        "    # add back in punctuation as individual elements\r\n",
        "    punc = separate_on_punc(string.punctuation)\r\n",
        "    dig = separate_on_punc(string.digits)\r\n",
        "    vocab.extend(punc + dig)\r\n",
        "    vocab = [x for x in vocab]\r\n",
        "    \r\n",
        "    return vocab\r\n",
        "\r\n",
        "\r\n",
        "# tokenizer for German text. \r\n",
        "# (we'll use pretrained embedding for English text)\r\n",
        "def tokenize(phrases, max_vocab_size=MAX_GERMAN_VOCAB_SIZE):\r\n",
        "    \r\n",
        "    # prepare phrases as text sequences\r\n",
        "    phrases_lists = [(separate_on_punc(sentence)) for sentence in phrases]\r\n",
        "\r\n",
        "    # prepare vocabulary\r\n",
        "    vocab = create_vocab(phrases)  \r\n",
        "\r\n",
        "    # create and fit tokenizer\r\n",
        "    tokenizer = tf.keras.preprocessing.text.Tokenizer(\r\n",
        "                        num_words=max_vocab_size,\r\n",
        "                        filters=None,\r\n",
        "                        lower=True, \r\n",
        "                        split=' ', \r\n",
        "                        char_level=False, \r\n",
        "                        oov_token='<UKN>',  # for unknown words\r\n",
        "                        )\r\n",
        "    tokenizer.fit_on_texts([vocab])\r\n",
        "\r\n",
        "    # apply tokenizer\r\n",
        "    tokenized_text = tokenizer.texts_to_sequences(phrases_lists) \r\n",
        "\r\n",
        "    return tokenizer, tokenized_text"
      ],
      "execution_count": 9,
      "outputs": []
    },
    {
      "cell_type": "markdown",
      "metadata": {
        "id": "ilEQDTmwhNgH"
      },
      "source": [
        "Display text examples (English / German / Tokenized German)"
      ]
    },
    {
      "cell_type": "code",
      "metadata": {
        "id": "bBViLH8YcNlI",
        "colab": {
          "base_uri": "https://localhost:8080/"
        },
        "outputId": "569533c8-9792-423a-b408-792d38da16f2"
      },
      "source": [
        "num_examples = 5\r\n",
        "\r\n",
        "# extract / prepare phrases\r\n",
        "english, german = separate_and_process(data_examples)\r\n",
        "\r\n",
        "# create German tokenizer\r\n",
        "german_tokenizer, german_tokenized = tokenize(phrases=german)\r\n",
        "\r\n",
        "# display randomly chosen examples\r\n",
        "num_samples = len(english)\r\n",
        "rand_ind = np.random.randint(0, high=num_samples, size=num_examples)\r\n",
        "\r\n",
        "tf.print('English', '\\t', 'German', '\\t\\t', 'Germand (tokenized)\\n' +\r\n",
        "      '--------\\t----------------\\t-------------------------------')\r\n",
        "for indx in range(num_examples):\r\n",
        "    tf.print(english[indx], '\\t', german[indx], '\\t\\t', german_tokenized[indx])\r\n"
      ],
      "execution_count": 10,
      "outputs": [
        {
          "output_type": "stream",
          "text": [
            "English \t German \t\t Germand (tokenized)\n",
            "--------\t----------------\t-------------------------------\n",
            "Hi. \t <SOS> hallo ! <EOS> \t\t [1632, 3413, 5, 3484]\n",
            "Hi. \t <SOS> gruess gott ! <EOS> \t\t [1632, 2300, 738, 5, 3484]\n",
            "Run! \t <SOS> lauf ! <EOS> \t\t [1632, 5561, 5, 3484]\n",
            "Wow! \t <SOS> potzdonner ! <EOS> \t\t [1632, 3296, 5, 3484]\n",
            "Wow! \t <SOS> donnerwetter ! <EOS> \t\t [1632, 5718, 5, 3484]\n"
          ],
          "name": "stdout"
        }
      ]
    },
    {
      "cell_type": "markdown",
      "metadata": {
        "id": "8KkUBufZhylC"
      },
      "source": [
        "Pad German tokenized phrases"
      ]
    },
    {
      "cell_type": "code",
      "metadata": {
        "id": "K_VZX0eD9xom"
      },
      "source": [
        "def apply_padding(tokenized_text, side='post', max_len=None):\r\n",
        "    if max_len is None:\r\n",
        "        max_len = 0\r\n",
        "        for line in german_tokenized:\r\n",
        "            length = len(line)\r\n",
        "            if length > max_len:\r\n",
        "                max_len = length\r\n",
        "    \r\n",
        "    # apply padding\r\n",
        "    padded_text = tf.keras.preprocessing.sequence.pad_sequences(\r\n",
        "                            sequences=tokenized_text, maxlen=max_len, \r\n",
        "                            dtype='int32', padding=side,\r\n",
        "                            truncating='pre', value=0.0)  \r\n",
        "    \r\n",
        "    return padded_text"
      ],
      "execution_count": 11,
      "outputs": []
    },
    {
      "cell_type": "code",
      "metadata": {
        "id": "9G20C4bk1iZ4",
        "scrolled": true,
        "colab": {
          "base_uri": "https://localhost:8080/"
        },
        "outputId": "9e3cac38-b13d-4079-df70-4c202386801e"
      },
      "source": [
        "german_tok_padded = apply_padding(german_tokenized)\r\n",
        "tf.print('shape:', german_tok_padded.shape)\r\n",
        "tf.print('\\n', german_tok_padded)"
      ],
      "execution_count": 12,
      "outputs": [
        {
          "output_type": "stream",
          "text": [
            "shape: (20000, 14)\n",
            "\n",
            " array([[1632, 3413,    5, ...,    0,    0,    0],\n",
            "       [1632, 2300,  738, ...,    0,    0,    0],\n",
            "       [1632, 5561,    5, ...,    0,    0,    0],\n",
            "       ...,\n",
            "       [1632,  125, 2662, ...,    0,    0,    0],\n",
            "       [1632,  125, 3146, ...,    0,    0,    0],\n",
            "       [1632,  125, 3146, ...,    0,    0,    0]], dtype=int32)\n"
          ],
          "name": "stdout"
        }
      ]
    },
    {
      "cell_type": "markdown",
      "metadata": {
        "id": "foL7Ihs21iaP"
      },
      "source": [
        "## 2. Prepare the data"
      ]
    },
    {
      "cell_type": "markdown",
      "metadata": {
        "id": "-9rCEE4z1iaQ"
      },
      "source": [
        "Load the embedding layer"
      ]
    },
    {
      "cell_type": "code",
      "metadata": {
        "id": "ywZgobCh1iaR"
      },
      "source": [
        "# Load embedding module from Tensorflow Hub\n",
        "\n",
        "try:  # (check if it has already been loaded this session)\n",
        "    PRETRAINED_EMBEDDING is not None == True\n",
        "    tf.print('embedding loaded')\n",
        "except:\n",
        "    PRETRAINED_EMBEDDING=hub.KerasLayer(\"https://tfhub.dev/google/tf2-preview/nnlm-en-dim128/1\", \n",
        "        output_shape=[EMBEDDING_DIM], input_shape=[], \n",
        "        dtype=tf.string)"
      ],
      "execution_count": 13,
      "outputs": []
    },
    {
      "cell_type": "markdown",
      "metadata": {
        "id": "KjuzXc-z1iaY"
      },
      "source": [
        "Prepare the training and validation Datasets."
      ]
    },
    {
      "cell_type": "code",
      "metadata": {
        "id": "JJ3IKW7Si-oj"
      },
      "source": [
        "def prep_dataset(data_examples_tab_delim, test_size=0.20, \r\n",
        "                 english_truncated_size=ENGLIGH_SENT_TRUNC,\r\n",
        "                 mask_value=MASK_VALUE, batch_size=BATCH_SIZE,\r\n",
        "                 german_pad_length=GERMAN_SENT_TRUNC+2,\r\n",
        "                 embedding_layer=PRETRAINED_EMBEDDING,\r\n",
        "                 translation_mode=False,\r\n",
        "                 verbose=False):\r\n",
        "\r\n",
        "    # function will be used differently in training and translating steps\r\n",
        "    # translation mode required params:\r\n",
        "    if translation_mode:\r\n",
        "        batch_size=1\r\n",
        "        german_pad_length=2\r\n",
        "        test_size=.5\r\n",
        "\r\n",
        "    # set paramaters\r\n",
        "    start_indicator = '<SOS>'\r\n",
        "    end_indicator = '<EOS>'\r\n",
        "\r\n",
        "    if verbose:\r\n",
        "        tf.print('PRE-PROCESSING DATA')\r\n",
        "    english, german = separate_and_process(data_examples_tab_delim, \r\n",
        "                                           start_indicator, end_indicator)\r\n",
        "    \r\n",
        "    # tokenize and pad German\r\n",
        "    if verbose:\r\n",
        "        tf.print('Tokenizing German Sentences')\r\n",
        "    german_tokenizer, german_tokenized = tokenize(phrases=german)\r\n",
        "    german_tok_padded = apply_padding(german_tokenized, \r\n",
        "                                      max_len=german_pad_length)\r\n",
        "\r\n",
        "    # get tokenized value for start/end strings\r\n",
        "    start_end = german_tokenizer.texts_to_sequences([\r\n",
        "                                [start_indicator.strip(string.punctuation)], \r\n",
        "                                [end_indicator.strip(string.punctuation)]])\r\n",
        "    start_token = start_end[0]\r\n",
        "    end_token = start_end[1]\r\n",
        "\r\n",
        "    # ###########################\r\n",
        "    \"\"\" Create a random training and validation set split of the data, \r\n",
        "    reserving e.g. 20% of the data for validation (NB: each English dataset \r\n",
        "    example is a single sentence string, and each German dataset example is \r\n",
        "    a sequence of padded integer tokens).\"\"\"\r\n",
        "\r\n",
        "    # separate into train / validation sets\r\n",
        "    if verbose:\r\n",
        "        print('Creating Test/ Train sets')\r\n",
        "    from sklearn.model_selection import train_test_split\r\n",
        "    x_train, x_valid, y_train, y_valid = \\\r\n",
        "            train_test_split(english, german_tok_padded,\r\n",
        "                             test_size=test_size, shuffle=True)\r\n",
        "    if verbose:\r\n",
        "        print('')\r\n",
        "\r\n",
        "    # ###########################\r\n",
        "    \"\"\" Load the training and validation sets into a tf.data.Dataset object, \r\n",
        "    passing in a tuple of English and German data for both \r\n",
        "    training and validation sets.\"\"\"\r\n",
        "    # ###########################\r\n",
        "\r\n",
        "    # convert to TF Datasets\r\n",
        "    if verbose:\r\n",
        "        print('Creating tensorflow datasets')\r\n",
        "    train_ds = tf.data.Dataset.from_tensor_slices((tf.constant(x_train), \r\n",
        "                                                tf.constant(y_train)))\r\n",
        "    valid_ds = tf.data.Dataset.from_tensor_slices((tf.constant(x_valid), \r\n",
        "                                                tf.constant(y_valid)))\r\n",
        "    if verbose:\r\n",
        "        print('Train:', train_ds.element_spec, '\\nValid:', valid_ds.element_spec)\r\n",
        "        print('')\r\n",
        "\r\n",
        "    # ###########################\r\n",
        "    \"\"\"Create a function to map over the datasets that splits each \r\n",
        "    English sentence at spaces. Apply this function to both Dataset objects \r\n",
        "    using the map method. Hint: look at the tf.strings.split function.\"\"\"\r\n",
        "    # ###########################\r\n",
        "\r\n",
        "    # split English sentences on spaces\r\n",
        "    if verbose:\r\n",
        "        print('Splitting English Sentences')\r\n",
        "    @tf.function\r\n",
        "    def split_x(x, y):\r\n",
        "        split = tf.strings.split(x)  \r\n",
        "        return split, y\r\n",
        "\r\n",
        "    train_ds = train_ds.map(split_x)\r\n",
        "    valid_ds = valid_ds.map(split_x)\r\n",
        "    if verbose:\r\n",
        "        print('- Train:', train_ds.element_spec, '\\n- Valid:', valid_ds.element_spec)\r\n",
        "        print('')\r\n",
        "\r\n",
        "    # ###########################\r\n",
        "    \"\"\"Create a function to map over the datasets that embeds each sequence \r\n",
        "    of English words using the loaded embedding layer/model. \r\n",
        "    Apply this function to both Dataset objects using the map method.\"\"\"\r\n",
        "    # ###########################\r\n",
        "\r\n",
        "    # Load pretrained embedding and apply to English text\r\n",
        "    if verbose:\r\n",
        "        print('Embedding English sentences')\r\n",
        "    # Applying pretrained embedding to English sentences\r\n",
        "    @tf.function\r\n",
        "    def embed_x(x, y):\r\n",
        "        x = embedding_layer(x)\r\n",
        "        return x, y\r\n",
        "\r\n",
        "    train_ds = train_ds.map(embed_x)\r\n",
        "    valid_ds = valid_ds.map(embed_x)\r\n",
        "    if verbose:\r\n",
        "        print('- Train:', train_ds.element_spec, '\\n- Valid:', valid_ds.element_spec)\r\n",
        "        print('')\r\n",
        "\r\n",
        "    # ###########################\r\n",
        "    \"\"\"Create a function to filter out dataset examples where the English \r\n",
        "    sentence is greater than or equal to than 13 (embedded) tokens in length. \r\n",
        "    Apply this function to both Dataset objects using the filter method.\"\"\"\r\n",
        "    # ###########################\r\n",
        "\r\n",
        "    # filter out long English sentences ( > english_truncated_size)\r\n",
        "    if verbose:\r\n",
        "        print(f'Removing samples with long English sentences (> {english_truncated_size -2})')\r\n",
        "    @tf.function\r\n",
        "    def filter_x(x, y):\r\n",
        "        return len(x) <= english_truncated_size -2\r\n",
        "\r\n",
        "    train_ds = train_ds.filter(filter_x)\r\n",
        "    valid_ds = valid_ds.filter(filter_x)\r\n",
        "    if verbose:\r\n",
        "        print('- Train:', train_ds.element_spec, '\\n- Valid:', valid_ds.element_spec)\r\n",
        "        print('')\r\n",
        "\r\n",
        "    # ###########################\r\n",
        "    \"\"\"Create a function to map over the datasets that pads each English \r\n",
        "    sequence of embeddings with some distinct padding value before the sequence,\r\n",
        "     so that each sequence is length 13. Apply this function to both Dataset \r\n",
        "     objects using the map method. Hint: look at the tf.pad function. You can \r\n",
        "     extract a Tensor shape using tf.shape; you might also find the \r\n",
        "     tf.math.maximum function useful.\"\"\"\r\n",
        "    # ###########################\r\n",
        "\r\n",
        "    # pad English to uniform length\r\n",
        "    if verbose:\r\n",
        "        print(f'Padding English sentences (length = {english_truncated_size})')\r\n",
        "    @tf.function\r\n",
        "    def pad_x(x, y):\r\n",
        "        length = len(x)\r\n",
        "        pad_needed = tf.maximum(0, english_truncated_size - length)\r\n",
        "        x = tf.pad(x, ([pad_needed,0], [0,0]), constant_values=mask_value)\r\n",
        "        return x, y\r\n",
        "\r\n",
        "    train_ds = train_ds.map(pad_x)\r\n",
        "    valid_ds = valid_ds.map(pad_x)\r\n",
        "    if verbose:\r\n",
        "        print('- Train:', train_ds.element_spec, '\\n- Valid:', valid_ds.element_spec)\r\n",
        "        print('')\r\n",
        "\r\n",
        "    # ###########################\r\n",
        "    \"\"\"Batch both training and validation Datasets with a batch size of 16.\"\"\"\r\n",
        "    # ###########################\r\n",
        "\r\n",
        "    # Batch datasets\r\n",
        "    if verbose:\r\n",
        "        print(f'Batching datasets, batch_size: {batch_size}')\r\n",
        "    train_ds = train_ds.batch(batch_size)\r\n",
        "    valid_ds = valid_ds.batch(batch_size)\r\n",
        "    if verbose:\r\n",
        "        print('- Train:', train_ds.element_spec, '\\n- Valid:', valid_ds.element_spec)\r\n",
        "        print('')\r\n",
        "\r\n",
        "    return train_ds, valid_ds, german_tokenizer, start_token, end_token\r\n"
      ],
      "execution_count": 14,
      "outputs": []
    },
    {
      "cell_type": "markdown",
      "metadata": {
        "id": "Qi6jFdsVmxvR"
      },
      "source": [
        "Print DS and example shapes"
      ]
    },
    {
      "cell_type": "code",
      "metadata": {
        "id": "osQZipdUncoT",
        "colab": {
          "base_uri": "https://localhost:8080/"
        },
        "outputId": "63486dc5-dacb-47de-db7f-4503408a81a5"
      },
      "source": [
        "\"\"\" Print the element_spec property for the training and validation Datasets.\r\n",
        "Using the Dataset .take(1) method, print the shape of the English data example \r\n",
        "from the training Dataset. Using the Dataset .take(1) method, print the German \r\n",
        "data example Tensor from the validation Dataset.. \"\"\"\r\n",
        "train_ds, valid_ds, german_tokenizer, start_token, end_token = \\\r\n",
        "    prep_dataset(data_examples, batch_size=16, test_size=.2, verbose=True)\r\n",
        "\r\n",
        "print('Train DS:', train_ds.element_spec)\r\n",
        "print('Validation DS:', valid_ds.element_spec)\r\n",
        "print()\r\n",
        "print('English example shape:', next(train_ds.take(1).as_numpy_iterator())[0].shape)\r\n",
        "print('German example shape:', next(train_ds.take(1).as_numpy_iterator())[1].shape)"
      ],
      "execution_count": 15,
      "outputs": [
        {
          "output_type": "stream",
          "text": [
            "PRE-PROCESSING DATA\n",
            "Tokenizing German Sentences\n",
            "Creating Test/ Train sets\n",
            "\n",
            "Creating tensorflow datasets\n",
            "Train: (TensorSpec(shape=(), dtype=tf.string, name=None), TensorSpec(shape=(18,), dtype=tf.int32, name=None)) \n",
            "Valid: (TensorSpec(shape=(), dtype=tf.string, name=None), TensorSpec(shape=(18,), dtype=tf.int32, name=None))\n",
            "\n",
            "Splitting English Sentences\n",
            "- Train: (TensorSpec(shape=(None,), dtype=tf.string, name=None), TensorSpec(shape=(18,), dtype=tf.int32, name=None)) \n",
            "- Valid: (TensorSpec(shape=(None,), dtype=tf.string, name=None), TensorSpec(shape=(18,), dtype=tf.int32, name=None))\n",
            "\n",
            "Embedding English sentences\n",
            "- Train: (TensorSpec(shape=(None, 128), dtype=tf.float32, name=None), TensorSpec(shape=(18,), dtype=tf.int32, name=None)) \n",
            "- Valid: (TensorSpec(shape=(None, 128), dtype=tf.float32, name=None), TensorSpec(shape=(18,), dtype=tf.int32, name=None))\n",
            "\n",
            "Removing samples with long English sentences (> 11)\n",
            "- Train: (TensorSpec(shape=(None, 128), dtype=tf.float32, name=None), TensorSpec(shape=(18,), dtype=tf.int32, name=None)) \n",
            "- Valid: (TensorSpec(shape=(None, 128), dtype=tf.float32, name=None), TensorSpec(shape=(18,), dtype=tf.int32, name=None))\n",
            "\n",
            "Padding English sentences (length = 13)\n",
            "- Train: (TensorSpec(shape=(None, 128), dtype=tf.float32, name=None), TensorSpec(shape=(18,), dtype=tf.int32, name=None)) \n",
            "- Valid: (TensorSpec(shape=(None, 128), dtype=tf.float32, name=None), TensorSpec(shape=(18,), dtype=tf.int32, name=None))\n",
            "\n",
            "Batching datasets, batch_size: 16\n",
            "- Train: (TensorSpec(shape=(None, None, 128), dtype=tf.float32, name=None), TensorSpec(shape=(None, 18), dtype=tf.int32, name=None)) \n",
            "- Valid: (TensorSpec(shape=(None, None, 128), dtype=tf.float32, name=None), TensorSpec(shape=(None, 18), dtype=tf.int32, name=None))\n",
            "\n",
            "Train DS: (TensorSpec(shape=(None, None, 128), dtype=tf.float32, name=None), TensorSpec(shape=(None, 18), dtype=tf.int32, name=None))\n",
            "Validation DS: (TensorSpec(shape=(None, None, 128), dtype=tf.float32, name=None), TensorSpec(shape=(None, 18), dtype=tf.int32, name=None))\n",
            "\n",
            "English example shape: (16, 13, 128)\n",
            "German example shape: (16, 18)\n"
          ],
          "name": "stdout"
        }
      ]
    },
    {
      "cell_type": "markdown",
      "metadata": {
        "id": "dMFzVoyrm6QK"
      },
      "source": [
        "Display German tensor example:"
      ]
    },
    {
      "cell_type": "code",
      "metadata": {
        "id": "QXsKEW6HESLD",
        "colab": {
          "base_uri": "https://localhost:8080/"
        },
        "outputId": "484a4c2d-837c-4a81-f6f9-2cc38fe04a27"
      },
      "source": [
        "print('German example:', next(valid_ds.take(1).as_numpy_iterator())[1])"
      ],
      "execution_count": 16,
      "outputs": [
        {
          "output_type": "stream",
          "text": [
            "German example: [[1632 1168 4399 3292  570    3 3484    0    0    0    0    0    0    0\n",
            "     0    0    0    0]\n",
            " [1632 2662 4465   81    3 3484    0    0    0    0    0    0    0    0\n",
            "     0    0    0    0]\n",
            " [1632 4673 1262 3231  690    3 3484    0    0    0    0    0    0    0\n",
            "     0    0    0    0]\n",
            " [1632  125 2513 5562 1262    3 3484    0    0    0    0    0    0    0\n",
            "     0    0    0    0]\n",
            " [1632 2155    5 3484    0    0    0    0    0    0    0    0    0    0\n",
            "     0    0    0    0]\n",
            " [1632  125 2662 3463 5337    3 3484    0    0    0    0    0    0    0\n",
            "     0    0    0    0]\n",
            " [1632 2363 5562 3706    5 3484    0    0    0    0    0    0    0    0\n",
            "     0    0    0    0]\n",
            " [1632  125 2662  757 5533    3 3484    0    0    0    0    0    0    0\n",
            "     0    0    0    0]\n",
            " [1632 1096 1262 2051    3 3484    0    0    0    0    0    0    0    0\n",
            "     0    0    0    0]\n",
            " [1632 4349 4383  475    3 3484    0    0    0    0    0    0    0    0\n",
            "     0    0    0    0]\n",
            " [1632  125 2662 5403 4869    3 3484    0    0    0    0    0    0    0\n",
            "     0    0    0    0]\n",
            " [1632  125  327 5520    3 3484    0    0    0    0    0    0    0    0\n",
            "     0    0    0    0]\n",
            " [1632 3062 3817 1262 1472    3 3484    0    0    0    0    0    0    0\n",
            "     0    0    0    0]\n",
            " [1632  395 1758 5562 1378 1214    3 3484    0    0    0    0    0    0\n",
            "     0    0    0    0]\n",
            " [1632 4994  597 1716    3 3484    0    0    0    0    0    0    0    0\n",
            "     0    0    0    0]\n",
            " [1632 3062 3817 5562 3889    3 3484    0    0    0    0    0    0    0\n",
            "     0    0    0    0]]\n"
          ],
          "name": "stdout"
        }
      ]
    },
    {
      "cell_type": "markdown",
      "metadata": {
        "id": "isIYhjq01iay"
      },
      "source": [
        "## 3. Create the custom layer\n",
        "\n",
        "*(Diagram of encoder architecture provided by instructor)*"
      ]
    },
    {
      "cell_type": "code",
      "metadata": {
        "id": "e22f1Xyh6xvE",
        "colab": {
          "base_uri": "https://localhost:8080/",
          "height": 423
        },
        "outputId": "b90b2750-948f-4246-ce0e-91e5a80e07f3"
      },
      "source": [
        "# download / view a schematic diagram for the encoder model\n",
        "!wget -q -O neural_translation_model.png --no-check-certificate \"https://docs.google.com/uc?export=download&id=1JrtNOzUJDaOWrK4C-xv-4wUuZaI12sQI\"\n",
        "Image(\"neural_translation_model.png\")"
      ],
      "execution_count": 17,
      "outputs": [
        {
          "output_type": "execute_result",
          "data": {
            "image/png": "[encoded data removed]",
            "text/plain": [
              "<IPython.core.display.Image object>"
            ]
          },
          "metadata": {
            "tags": []
          },
          "execution_count": 17
        }
      ]
    },
    {
      "cell_type": "markdown",
      "metadata": {
        "id": "M6gLIHG81iaz"
      },
      "source": [
        "Create custom layer that appends a trainable variable to the end of each English example. This is a learned 'end of sentence' value."
      ]
    },
    {
      "cell_type": "code",
      "metadata": {
        "id": "yg9hjZz11ia0"
      },
      "source": [
        "class AppendVarLayer(Layer):\r\n",
        "\r\n",
        "    def __init__(self, embedding_dim=EMBEDDING_DIM, batch_size=BATCH_SIZE, *kwargs):\r\n",
        "        super().__init__()\r\n",
        "\r\n",
        "        # attributes\r\n",
        "        self.embedding_dim = embedding_dim\r\n",
        "        self.batch_size=batch_size \r\n",
        "\r\n",
        "        # trainable variable\r\n",
        "        self.w = tf.Variable(initial_value=tf.random.normal(\r\n",
        "                            shape=[1, 1, self.embedding_dim], \r\n",
        "                            mean=0.0, stddev=1.0, dtype=tf.dtypes.float32\r\n",
        "                                            ),\r\n",
        "                             trainable=True)\r\n",
        "                \r\n",
        "    def call(self, inputs):\r\n",
        "        # expand to match batched input shape\r\n",
        "        w_stacked = tf.tile(self.w, [self.batch_size, 1 ,1])\r\n",
        "\r\n",
        "        return tf.concat([inputs, w_stacked], axis=1)\r\n"
      ],
      "execution_count": 18,
      "outputs": []
    },
    {
      "cell_type": "code",
      "metadata": {
        "id": "EBBkUXe9xZuq",
        "colab": {
          "base_uri": "https://localhost:8080/"
        },
        "outputId": "79417efc-b2f2-4856-f849-e189c5b734eb"
      },
      "source": [
        "\"\"\"Using the Dataset .take(1) method, extract a batch of English data examples \r\n",
        "from the training Dataset and print the shape. Test the custom layer \r\n",
        "by calling the layer on the English data batch Tensor \r\n",
        "and print the resulting Tensor shape (the layer should increase \r\n",
        "the sequence length by one).\"\"\"\r\n",
        "\r\n",
        "# get element\r\n",
        "x = train_ds.take(1)\r\n",
        "x = next(x.as_numpy_iterator())[0]\r\n",
        "print('layer input shape:', x.shape)\r\n",
        "\r\n",
        "# test layer\r\n",
        "layer = AppendVarLayer()\r\n",
        "x_out = layer(x)\r\n",
        "print('layer output shape:', tf.shape(x_out))"
      ],
      "execution_count": 19,
      "outputs": [
        {
          "output_type": "stream",
          "text": [
            "layer input shape: (16, 13, 128)\n",
            "layer output shape: tf.Tensor([ 16  14 128], shape=(3,), dtype=int32)\n"
          ],
          "name": "stdout"
        }
      ]
    },
    {
      "cell_type": "markdown",
      "metadata": {
        "id": "OAd3i4_y1ia-"
      },
      "source": [
        "## 4. Build the encoder network"
      ]
    },
    {
      "cell_type": "code",
      "metadata": {
        "id": "6R2LqbfV1ia_"
      },
      "source": [
        "def EncoderModel(embedding_dim=EMBEDDING_DIM, batch_size=BATCH_SIZE,\r\n",
        "                     mask_value=MASK_VALUE, input_words=ENGLIGH_SENT_TRUNC,\r\n",
        "                     verbose=False):\r\n",
        "    \r\n",
        "    from tensorflow.keras import Model, Input\r\n",
        "    from tensorflow.keras.layers import Masking, LSTM, Lambda, Concatenate\r\n",
        "\r\n",
        "    # get inputs\r\n",
        "    inputs = Input(shape=(input_words, embedding_dim), batch_size=batch_size, \r\n",
        "              name='Input_English')\r\n",
        "    x = inputs\r\n",
        "    \r\n",
        "    # model architecture\r\n",
        "    x = AppendVarLayer(batch_size=batch_size)(x)  # appends trainable variable to end of sequence\r\n",
        "    x = Masking(mask_value=mask_value, name='Mask')(x)\r\n",
        "    x = LSTM(units=LSTM_ACTIVATIONS, return_state=True, name='LSTM_1')(x)\r\n",
        "    # note: LSTM output = seq_output, final_memory_state, final_carry_state\r\n",
        "\r\n",
        "    # define outputs\r\n",
        "    outputs = (x[1], x[2])  # drops x[0], only internal states used for encoding\r\n",
        "\r\n",
        "    # create model\r\n",
        "    model = Model(inputs=inputs, outputs=outputs, name=\"English_Encoder\")\r\n",
        "\r\n",
        "    if verbose:\r\n",
        "        print(model.summary())\r\n",
        "\r\n",
        "    return model\r\n",
        "\r\n"
      ],
      "execution_count": 20,
      "outputs": []
    },
    {
      "cell_type": "markdown",
      "metadata": {
        "id": "wiY_Ve3FQGoh"
      },
      "source": [
        "Tensor Shapes"
      ]
    },
    {
      "cell_type": "code",
      "metadata": {
        "id": "e5XW6NxL1ibC",
        "colab": {
          "base_uri": "https://localhost:8080/"
        },
        "outputId": "96dc90e7-0aae-483b-a4e4-3e37a174a3cb"
      },
      "source": [
        "\"\"\"Using the Dataset .take(1) method, extract a batch of English data examples \r\n",
        "from the training Dataset and test the encoder model by calling it \r\n",
        "on the English data Tensor, and print the shape of the resulting Tensor outputs.\r\n",
        "\"\"\"\r\n",
        "\r\n",
        "# get model\r\n",
        "eng_enc_model = EncoderModel(verbose=False)\r\n",
        "# get data batch\r\n",
        "x = train_ds.take(1)\r\n",
        "# apply model\r\n",
        "out = eng_enc_model.predict(x)\r\n",
        "print('output shape_0:', tf.shape(out[0]),\r\n",
        "      '\\noutput shape_1:', tf.shape(out[1])\r\n",
        "    )"
      ],
      "execution_count": 21,
      "outputs": [
        {
          "output_type": "stream",
          "text": [
            "output shape_0: tf.Tensor([ 16 512], shape=(2,), dtype=int32) \n",
            "output shape_1: tf.Tensor([ 16 512], shape=(2,), dtype=int32)\n"
          ],
          "name": "stdout"
        }
      ]
    },
    {
      "cell_type": "code",
      "metadata": {
        "id": "jEk9ikVh1ibL",
        "colab": {
          "base_uri": "https://localhost:8080/"
        },
        "outputId": "0f9a1e74-fad6-412d-e05b-de30776e830d"
      },
      "source": [
        "\"\"\"Print the model summary for the encoder network.\"\"\"\r\n",
        "eng_enc_model.summary()"
      ],
      "execution_count": 22,
      "outputs": [
        {
          "output_type": "stream",
          "text": [
            "Model: \"English_Encoder\"\n",
            "_________________________________________________________________\n",
            "Layer (type)                 Output Shape              Param #   \n",
            "=================================================================\n",
            "Input_English (InputLayer)   [(16, 13, 128)]           0         \n",
            "_________________________________________________________________\n",
            "append_var_layer_1 (AppendVa (16, 14, 128)             128       \n",
            "_________________________________________________________________\n",
            "Mask (Masking)               (16, 14, 128)             0         \n",
            "_________________________________________________________________\n",
            "LSTM_1 (LSTM)                [(16, 512), (16, 512), (1 1312768   \n",
            "=================================================================\n",
            "Total params: 1,312,896\n",
            "Trainable params: 1,312,896\n",
            "Non-trainable params: 0\n",
            "_________________________________________________________________\n"
          ],
          "name": "stdout"
        }
      ]
    },
    {
      "cell_type": "markdown",
      "metadata": {
        "id": "KvkzpCeZ1ibR"
      },
      "source": [
        "## 5. Build the decoder network\n",
        "\n",
        "*(Diagram of decoder architecture provided by instructor)*"
      ]
    },
    {
      "cell_type": "code",
      "metadata": {
        "id": "yOjEb7cH7Y4S",
        "colab": {
          "base_uri": "https://localhost:8080/",
          "height": 501
        },
        "outputId": "ee60743f-236f-4590-97b6-e679e001634f"
      },
      "source": [
        "# Run this cell to download and view a schematic diagram for the decoder model\n",
        "\n",
        "!wget -q -O neural_translation_model.png --no-check-certificate \"https://docs.google.com/uc?export=download&id=1DTeaXD8tA8RjkpVrB2mr9csSBOY4LQiW\"\n",
        "Image(\"neural_translation_model.png\")"
      ],
      "execution_count": 23,
      "outputs": [
        {
          "output_type": "execute_result",
          "data": {
            "image/png": "[encoded data removed]",
            "text/plain": [
              "<IPython.core.display.Image object>"
            ]
          },
          "metadata": {
            "tags": []
          },
          "execution_count": 23
        }
      ]
    },
    {
      "cell_type": "markdown",
      "metadata": {
        "id": "VPBK8WGL1ibS"
      },
      "source": [
        "Build the RNN decoder model"
      ]
    },
    {
      "cell_type": "code",
      "metadata": {
        "id": "l50qhnXD1ibT"
      },
      "source": [
        "GERMAN_VOCAB_SIZE = 1 + len(german_tokenizer.word_counts)\r\n",
        "class DecoderModel(tf.keras.Model):\r\n",
        "    \r\n",
        "    def __init__(self, name='German_Decoder', \r\n",
        "                 embedding_dim=EMBEDDING_DIM, \r\n",
        "                 vocab_size=GERMAN_VOCAB_SIZE, \r\n",
        "                 hidden_state=None, cell_state=None,\r\n",
        "                 **kwargs):\r\n",
        "        \r\n",
        "        super().__init__(**kwargs)\r\n",
        "\r\n",
        "        self.hidden_state = hidden_state \r\n",
        "        self.cell_state = cell_state\r\n",
        "\r\n",
        "        from tensorflow.keras.layers import Embedding, LSTM, Dense\r\n",
        "        \r\n",
        "        self.embedding = Embedding(input_dim=vocab_size, \r\n",
        "                                   output_dim=embedding_dim, \r\n",
        "                                   mask_zero=True)\r\n",
        "        self.LSTM_1 = LSTM(units=LSTM_ACTIVATIONS,\r\n",
        "                           return_state=True, return_sequences=True)\r\n",
        "        self.Dense_1 = Dense(units=vocab_size, activation=None)  # maps to German word tokens\r\n",
        "\r\n",
        "    def call(self, inputs, initial_state=None, verbose=False, **kwargs):\r\n",
        "        # Inputs\r\n",
        "        x = inputs\r\n",
        "\r\n",
        "        #architecture\r\n",
        "        # ## embedding\r\n",
        "        x = self.embedding(x)       \r\n",
        "\r\n",
        "        # ## LSTM\r\n",
        "        x, hidden_state, cell_state = \\\r\n",
        "            self.LSTM_1(x, initial_state=initial_state)\r\n",
        "            \r\n",
        "        # ## Dense\r\n",
        "        x = self.Dense_1(x)\r\n",
        "\r\n",
        "        # Outputs\r\n",
        "        initial_state = [hidden_state, cell_state]\r\n",
        "        outputs = x, initial_state\r\n",
        "\r\n",
        "        if verbose:\r\n",
        "            print('x:', tf.shape(x))\r\n",
        "            print('hidden_state:', tf.shape(hidden_state))\r\n",
        "            print('cell_state:', tf.shape(cell_state))\r\n",
        "\r\n",
        "        return outputs"
      ],
      "execution_count": 24,
      "outputs": []
    },
    {
      "cell_type": "markdown",
      "metadata": {
        "id": "orbfXMygFxqN"
      },
      "source": [
        "Decoder Output Shapes"
      ]
    },
    {
      "cell_type": "code",
      "metadata": {
        "id": "rGfCiGhzsSoY",
        "colab": {
          "base_uri": "https://localhost:8080/"
        },
        "outputId": "4c2c4d47-1049-49c9-eaa0-c14f45b91148"
      },
      "source": [
        "\"\"\"Using the Dataset .take(1) method, extract a batch of English and German \r\n",
        "data examples from the training Dataset. Test the decoder model by first calling\r\n",
        "the encoder model on the English data Tensor to get the hidden and cell states,\r\n",
        "and then call the decoder model on the German data Tensor and hidden and cell \r\n",
        "states, and print the shape of the resulting decoder Tensor outputs.\"\"\"\r\n",
        "\r\n",
        "decoder = DecoderModel()\r\n",
        "encoder = EncoderModel()\r\n",
        "\r\n",
        "x = next(train_ds.take(1).as_numpy_iterator())[0]\r\n",
        "x = encoder(x)\r\n",
        "\r\n",
        "start = next(train_ds.take(1).as_numpy_iterator())[1]\r\n",
        "x, initial_state = decoder(start, x, verbose=False)\r\n",
        "\r\n",
        "print(f'output tensor shape: {tf.shape(x)}\\n\\\r\n",
        "initial_state: {tf.shape(initial_state[0])}, {tf.shape(initial_state[1])}')"
      ],
      "execution_count": 25,
      "outputs": [
        {
          "output_type": "stream",
          "text": [
            "output tensor shape: [  16   18 5748]\n",
            "initial_state: [ 16 512], [ 16 512]\n"
          ],
          "name": "stdout"
        }
      ]
    },
    {
      "cell_type": "markdown",
      "metadata": {
        "id": "Ae6RHrxsFvxa"
      },
      "source": [
        "Decoder Model summary"
      ]
    },
    {
      "cell_type": "code",
      "metadata": {
        "id": "pkfXPkHX8hZq",
        "colab": {
          "base_uri": "https://localhost:8080/"
        },
        "outputId": "c82dc121-0b96-4e7f-a5c9-3f062ab7a54d"
      },
      "source": [
        "# show decoder model summary\r\n",
        "decoder.summary()"
      ],
      "execution_count": 26,
      "outputs": [
        {
          "output_type": "stream",
          "text": [
            "Model: \"decoder_model\"\n",
            "_________________________________________________________________\n",
            "Layer (type)                 Output Shape              Param #   \n",
            "=================================================================\n",
            "embedding (Embedding)        multiple                  735744    \n",
            "_________________________________________________________________\n",
            "lstm (LSTM)                  multiple                  1312768   \n",
            "_________________________________________________________________\n",
            "dense (Dense)                multiple                  2948724   \n",
            "=================================================================\n",
            "Total params: 4,997,236\n",
            "Trainable params: 4,997,236\n",
            "Non-trainable params: 0\n",
            "_________________________________________________________________\n"
          ],
          "name": "stdout"
        }
      ]
    },
    {
      "cell_type": "markdown",
      "metadata": {
        "id": "pST9XGJ81ibo"
      },
      "source": [
        "## 6. Custom training loop"
      ]
    },
    {
      "cell_type": "code",
      "metadata": {
        "id": "7hJHbWqs1ibr"
      },
      "source": [
        "\"\"\"\r\n",
        "Define a function that takes a Tensor batch of German data \r\n",
        "(as extracted from the training Dataset), and returns a tuple \r\n",
        "containing German inputs and outputs for the decoder model \r\n",
        "(refer to schematic diagram above).\r\n",
        "\"\"\"\r\n",
        "@tf.function\r\n",
        "def german_input_output(y):\r\n",
        "    inp = y[:, :-1]  # drop last word ('end token')\r\n",
        "    out = y[:, 1:]  # drop forst word ('start token')\r\n",
        "\r\n",
        "    return inp, out\r\n"
      ],
      "execution_count": 27,
      "outputs": []
    },
    {
      "cell_type": "markdown",
      "metadata": {
        "id": "In0b-xv3xEF6"
      },
      "source": [
        "Define Model's Forward / Backward Passes"
      ]
    },
    {
      "cell_type": "code",
      "metadata": {
        "id": "KLsxUQidw4Fn"
      },
      "source": [
        "\"\"\"\r\n",
        "Define a function that computes the forward and backward pass \r\n",
        "for your translation model. This function should take an English input, \r\n",
        "German input and German output as arguments, and should do the following:\r\n",
        "\"\"\"\r\n",
        "from tensorflow.keras.utils import to_categorical\r\n",
        "\r\n",
        "@tf.function\r\n",
        "def training_step(english_input, german_input, german_output, \r\n",
        "               encoder_model, decoder_model, optimizer,\r\n",
        "               compute_grads=True,\r\n",
        "               loss=tf.keras.losses.SparseCategoricalCrossentropy(from_logits=True)\r\n",
        "               ):\r\n",
        "    \r\n",
        "    with tf.GradientTape() as tape:\r\n",
        "        # encoding English inputs\r\n",
        "        initial_state = encoder_model(english_input)  \r\n",
        "\r\n",
        "        # decoding predicted German ouputs\r\n",
        "        predictions, hidden_states = \\\r\n",
        "            decoder_model(german_input, initial_state)\r\n",
        "\r\n",
        "        # compute losses\r\n",
        "        losses = loss(german_output, predictions)\r\n",
        "\r\n",
        "        # compute gradients\r\n",
        "        if compute_grads:\r\n",
        "            trainables = encoder_model.trainable_variables + \\\r\n",
        "                            decoder_model.trainable_variables\r\n",
        "            grads = tape.gradient(losses, trainables)\r\n",
        "        else:\r\n",
        "            grads=None\r\n",
        "\r\n",
        "        # update model weights            \r\n",
        "        if compute_grads:\r\n",
        "            optimizer.apply_gradients(\r\n",
        "                    zip(grads, encoder_model.trainable_variables +\r\n",
        "                                    decoder_model.trainable_variables))\r\n",
        "        \r\n",
        "        return grads, predictions, losses\r\n",
        "\r\n",
        "\r\n",
        "# Track Metrics\r\n",
        "def track_metrics(loss_tracker, auc_tracker, german_output, predictions, losses):\r\n",
        "\r\n",
        "    # track metric: losses\r\n",
        "    if loss_tracker is not None:\r\n",
        "        loss_tracker.update_state(losses)\r\n",
        "    \r\n",
        "    # track metric: AUC auc\r\n",
        "    if auc_tracker is not None:\r\n",
        "        y_true = to_categorical(y=german_output, num_classes=GERMAN_VOCAB_SIZE)\r\n",
        "        auc_tracker.update_state(y_true, tf.math.sigmoid(predictions))\r\n",
        "\r\n",
        "    return loss_tracker, auc_tracker"
      ],
      "execution_count": 28,
      "outputs": []
    },
    {
      "cell_type": "code",
      "metadata": {
        "id": "px68qLBl3Bvs"
      },
      "source": [
        "# End of Epoch cleanup: \r\n",
        "def epoch_results(batch_losses_tracker, batch_auc_tracker,\r\n",
        "                  epoch_losses_list, epoch_auc_list):\r\n",
        "    \r\n",
        "    # compute epoch results\r\n",
        "    ave_loss = batch_losses_tracker.result()\r\n",
        "    ave_auc = batch_auc_tracker.result()\r\n",
        "\r\n",
        "    # update lists\r\n",
        "    epoch_losses_list += [ave_loss]  #  avoiding append for @tf.function\r\n",
        "    epoch_auc_list += [ave_auc]\r\n",
        "\r\n",
        "    # reset trackers\r\n",
        "    batch_losses_tracker.reset_states()\r\n",
        "    batch_auc_tracker.reset_states()\r\n",
        "\r\n",
        "    return batch_losses_tracker, batch_auc_tracker"
      ],
      "execution_count": 29,
      "outputs": []
    },
    {
      "cell_type": "markdown",
      "metadata": {
        "id": "qBx2EVBrw-Lk"
      },
      "source": [
        "Define Training Loop"
      ]
    },
    {
      "cell_type": "code",
      "metadata": {
        "id": "Jvu4J4-u1ibu"
      },
      "source": [
        "def train_loop(train_ds, valid_ds, num_epochs, train_steps, val_steps,\r\n",
        "               encoder_model, decoder_model, \r\n",
        "               encoder_checkpoint_manager, decoder_checkpoint_manager):\r\n",
        "    \r\n",
        "    # for converstion from sparce to standard categories\r\n",
        "\r\n",
        "    # define loss and optimizers\r\n",
        "    loss_metric = tf.keras.losses.SparseCategoricalCrossentropy(from_logits=True)\r\n",
        "    optimizer = tf.keras.optimizers.Adam()\r\n",
        "    \r\n",
        "    # define metrics\r\n",
        "    # metric: loss\r\n",
        "    train_losses = []\r\n",
        "    valid_losses = []\r\n",
        "    batch_train_losses = tf.keras.metrics.Mean()\r\n",
        "    batch_valid_losses = tf.keras.metrics.Mean()\r\n",
        "\r\n",
        "    # metric: AUC (illustrates precision-recall)\r\n",
        "    train_AUC = []\r\n",
        "    valid_AUC = []\r\n",
        "    batch_train_AUC = tf.keras.metrics.AUC(curve='ROC')\r\n",
        "    batch_valid_AUC = tf.keras.metrics.AUC(curve='ROC')\r\n",
        "\r\n",
        "    for epoch in range(num_epochs):\r\n",
        "        tf.print(f'epoch: {epoch}')\r\n",
        "\r\n",
        "        # shuffle data\r\n",
        "        train_ds = train_ds.shuffle(buffer_size=10*train_steps)\r\n",
        "        valid_ds = valid_ds.shuffle(buffer_size=10*train_steps)\r\n",
        "\r\n",
        "        # Training Loop       \r\n",
        "        batch = 0       \r\n",
        "        for english, german in train_ds.take(train_steps):\r\n",
        "\r\n",
        "            # get decoder input/outputs\r\n",
        "            german_input, german_output = german_input_output(german)\r\n",
        "\r\n",
        "            # update training batch grads, loss_tracker, auc_tracker\r\n",
        "            grads, predictions, losses = \\\r\n",
        "                    training_step(english_input=english, \r\n",
        "                               german_input=german_input, \r\n",
        "                               german_output=german_output, \r\n",
        "                               encoder_model=encoder_model, \r\n",
        "                               decoder_model=decoder_model, \r\n",
        "                               optimizer=optimizer,\r\n",
        "                               compute_grads=True,  # training\r\n",
        "                               loss=loss_metric)  \r\n",
        "                    \r\n",
        "            batch_train_losses, batch_train_AUC = \\\r\n",
        "                track_metrics(batch_train_losses, batch_train_AUC,  # training\r\n",
        "                              german_output, predictions, losses)\r\n",
        "                                   \r\n",
        "            checkpoint_freq = 4\r\n",
        "            if batch % train_steps//checkpoint_freq == 0:\r\n",
        "                \r\n",
        "                # report progress\r\n",
        "                print('train_loss:', batch_train_losses.result())\r\n",
        "                print('train_auc:', batch_train_AUC.result())\r\n",
        "\r\n",
        "                # save checkpoint\r\n",
        "                encoder_checkpoint_manager.save()\r\n",
        "                decoder_checkpoint_manager.save()\r\n",
        "\r\n",
        "            # update batch number\r\n",
        "            batch += 1\r\n",
        "\r\n",
        "        # End of train epoch steps:\r\n",
        "        # save checkpoint\r\n",
        "        encoder_checkpoint_manager.save()\r\n",
        "        decoder_checkpoint_manager.save()\r\n",
        "\r\n",
        "        # record epoch results (training)\r\n",
        "        epoch_results(batch_train_losses,  # training\r\n",
        "                      batch_train_AUC,  # training\r\n",
        "                      epoch_losses_list=train_losses,   # training\r\n",
        "                      epoch_auc_list=train_AUC)  # training\r\n",
        "\r\n",
        "        # get validation data\r\n",
        "        for english, german in valid_ds.take(val_steps):\r\n",
        "\r\n",
        "            # get decoder input/outputs\r\n",
        "            german_input, german_output = german_input_output(german)\r\n",
        "\r\n",
        "            # update validation's loss_tracker, auc_tracker\r\n",
        "            _, predictions, losses = \\\r\n",
        "                training_step(english, \r\n",
        "                        german_input, \r\n",
        "                        german_output, \r\n",
        "                        encoder_model, \r\n",
        "                        decoder_model, \r\n",
        "                        optimizer=None,  # no training on validation set\r\n",
        "                        compute_grads=False,  # no training on validation set\r\n",
        "                        loss=loss_metric)  \r\n",
        "            \r\n",
        "            batch_valid_losses, batch_valid_AUC = \\\r\n",
        "                track_metrics(batch_valid_losses, batch_valid_AUC,  # validation\r\n",
        "                              german_output, predictions, losses)\r\n",
        "\r\n",
        "        # End of validation epoch steps:\r\n",
        "        # report epoch validation results\r\n",
        "        print('- val_loss:', batch_valid_losses.result())\r\n",
        "        print('  val_auc:', batch_valid_AUC.result())\r\n",
        "\r\n",
        "        # record epoch results (validation)\r\n",
        "        epoch_results(batch_valid_losses,  # validation\r\n",
        "                      batch_valid_AUC,  # validation\r\n",
        "                      epoch_losses_list=valid_losses,   # validation\r\n",
        "                      epoch_auc_list=valid_AUC)  # validation\r\n",
        "    \r\n",
        "    # prepare outputs\r\n",
        "    losses = [train_losses, valid_losses]\r\n",
        "    auc = [train_AUC, valid_AUC]\r\n",
        "\r\n",
        "    return  encoder_model, decoder_model, losses, auc"
      ],
      "execution_count": 30,
      "outputs": []
    },
    {
      "cell_type": "markdown",
      "metadata": {
        "id": "zk64eS8uGLA5"
      },
      "source": [
        "Define model loader"
      ]
    },
    {
      "cell_type": "code",
      "metadata": {
        "id": "zeOuN0rbGKlu"
      },
      "source": [
        "def model_load_init(model_class, start_fresh=False):\r\n",
        "    # use model_class = EncoderModel or DecoderModel\r\n",
        "\r\n",
        "    # set model's checkpoint paramaters\r\n",
        "    if model_class == EncoderModel:\r\n",
        "        name = 'encoder'\r\n",
        "    \r\n",
        "    elif model_class == DecoderModel:\r\n",
        "        name = 'decoder'\r\n",
        "\r\n",
        "    # initialize model architecture\r\n",
        "    model = model_class()\r\n",
        "\r\n",
        "    # load checkpoint\r\n",
        "    checkpoint = tf.train.Checkpoint(model=model)\r\n",
        "    checkpoint_manager = tf.train.CheckpointManager(\r\n",
        "                            checkpoint=checkpoint, \r\n",
        "                            directory=CHECKPOINT_DIR, \r\n",
        "                            max_to_keep=2, \r\n",
        "                            keep_checkpoint_every_n_hours=None,\r\n",
        "                            checkpoint_name=name + '.ckpt',\r\n",
        "                            step_counter=None, \r\n",
        "                            checkpoint_interval=None,\r\n",
        "                            init_fn=None\r\n",
        "                            )\r\n",
        "    if start_fresh:\r\n",
        "        tf.print(f'new {name} model initialized')\r\n",
        "\r\n",
        "    else:  # load saved weights if available\r\n",
        "        try:\r\n",
        "            checkpoint_manager.restore_or_initialize()\r\n",
        "            tf.print(f'loaded saved {name} model')\r\n",
        "        except:\r\n",
        "            tf.print(f'new {name} model initialized')\r\n",
        "\r\n",
        "    return model, checkpoint, checkpoint_manager"
      ],
      "execution_count": 31,
      "outputs": []
    },
    {
      "cell_type": "markdown",
      "metadata": {
        "id": "EYsJDfldHcdA"
      },
      "source": [
        "# Implement Training Functions"
      ]
    },
    {
      "cell_type": "markdown",
      "metadata": {
        "id": "boljdZIDfbjE"
      },
      "source": [
        "Load / Initialize Models"
      ]
    },
    {
      "cell_type": "code",
      "metadata": {
        "id": "Vl5H06811ibx",
        "colab": {
          "base_uri": "https://localhost:8080/"
        },
        "outputId": "cf1e1c01-8e5f-40c1-9596-b40aff8dcd2f"
      },
      "source": [
        "# initialize encoder\r\n",
        "encoder_model, encoder_checkpoint, encoder_checkpoint_manager = \\\r\n",
        "    model_load_init(model_class=EncoderModel, start_fresh=False)\r\n",
        "\r\n",
        "# initialize decoder\r\n",
        "decoder_model, decoder_checkpoint, decoder_checkpoint_manager = \\\r\n",
        "    model_load_init(model_class=DecoderModel, start_fresh=False)"
      ],
      "execution_count": 32,
      "outputs": [
        {
          "output_type": "stream",
          "text": [
            "loaded saved encoder model\n",
            "loaded saved decoder model\n"
          ],
          "name": "stdout"
        }
      ]
    },
    {
      "cell_type": "markdown",
      "metadata": {
        "id": "SRynZkz_GOOt"
      },
      "source": [
        "Implement Training Loop"
      ]
    },
    {
      "cell_type": "code",
      "metadata": {
        "id": "MVWOYJ3l1ib1",
        "colab": {
          "base_uri": "https://localhost:8080/"
        },
        "outputId": "5cee8075-48c3-4e36-b593-235783fe8265"
      },
      "source": [
        "train_model = True\r\n",
        "# train models\r\n",
        "#** note: this only uses a small subset of values from the sample set \r\n",
        "# for illustration purposes **\r\n",
        "num_epochs = 20\r\n",
        "val_steps = 25\r\n",
        "train_steps = 1000  # make sure to use this because of extremely large dataset\r\n",
        "\r\n",
        "if train_model:\r\n",
        "    encoder_model, decoder_model, losses, auc = \\\r\n",
        "        train_loop(train_ds, valid_ds, \r\n",
        "                   num_epochs=num_epochs, \r\n",
        "                   train_steps=train_steps, \r\n",
        "                   val_steps=val_steps,\r\n",
        "                   encoder_model=encoder_model, \r\n",
        "                   decoder_model=decoder_model,\r\n",
        "                   encoder_checkpoint_manager=encoder_checkpoint_manager, \r\n",
        "                   decoder_checkpoint_manager=decoder_checkpoint_manager)"
      ],
      "execution_count": 33,
      "outputs": [
        {
          "output_type": "stream",
          "text": [
            "epoch: 0\n",
            "train_loss: tf.Tensor(7.108843, shape=(), dtype=float32)\n",
            "train_auc: tf.Tensor(0.796377, shape=(), dtype=float32)\n",
            "train_loss: tf.Tensor(8.687534, shape=(), dtype=float32)\n",
            "train_auc: tf.Tensor(0.72913325, shape=(), dtype=float32)\n",
            "train_loss: tf.Tensor(9.152596, shape=(), dtype=float32)\n",
            "train_auc: tf.Tensor(0.70108587, shape=(), dtype=float32)\n",
            "train_loss: tf.Tensor(9.254087, shape=(), dtype=float32)\n",
            "train_auc: tf.Tensor(0.6866429, shape=(), dtype=float32)\n",
            "- val_loss: tf.Tensor(3.2460952, shape=(), dtype=float32)\n",
            "  val_auc: tf.Tensor(0.9747721, shape=(), dtype=float32)\n",
            "epoch: 1\n",
            "train_loss: tf.Tensor(3.204714, shape=(), dtype=float32)\n",
            "train_auc: tf.Tensor(0.97905624, shape=(), dtype=float32)\n",
            "train_loss: tf.Tensor(3.1503453, shape=(), dtype=float32)\n",
            "train_auc: tf.Tensor(0.9805777, shape=(), dtype=float32)\n",
            "train_loss: tf.Tensor(3.1487057, shape=(), dtype=float32)\n",
            "train_auc: tf.Tensor(0.9846087, shape=(), dtype=float32)\n",
            "train_loss: tf.Tensor(3.168926, shape=(), dtype=float32)\n",
            "train_auc: tf.Tensor(0.9823245, shape=(), dtype=float32)\n",
            "- val_loss: tf.Tensor(2.264047, shape=(), dtype=float32)\n",
            "  val_auc: tf.Tensor(0.98373836, shape=(), dtype=float32)\n",
            "epoch: 2\n",
            "train_loss: tf.Tensor(2.1636918, shape=(), dtype=float32)\n",
            "train_auc: tf.Tensor(0.99831325, shape=(), dtype=float32)\n",
            "train_loss: tf.Tensor(2.201982, shape=(), dtype=float32)\n",
            "train_auc: tf.Tensor(0.99821115, shape=(), dtype=float32)\n",
            "train_loss: tf.Tensor(2.1586754, shape=(), dtype=float32)\n",
            "train_auc: tf.Tensor(0.9977953, shape=(), dtype=float32)\n",
            "train_loss: tf.Tensor(2.1505282, shape=(), dtype=float32)\n",
            "train_auc: tf.Tensor(0.9968791, shape=(), dtype=float32)\n",
            "- val_loss: tf.Tensor(1.5769756, shape=(), dtype=float32)\n",
            "  val_auc: tf.Tensor(0.98470676, shape=(), dtype=float32)\n",
            "epoch: 3\n",
            "train_loss: tf.Tensor(1.3535764, shape=(), dtype=float32)\n",
            "train_auc: tf.Tensor(0.9993745, shape=(), dtype=float32)\n",
            "train_loss: tf.Tensor(1.3710825, shape=(), dtype=float32)\n",
            "train_auc: tf.Tensor(0.99945134, shape=(), dtype=float32)\n",
            "train_loss: tf.Tensor(1.3669189, shape=(), dtype=float32)\n",
            "train_auc: tf.Tensor(0.999489, shape=(), dtype=float32)\n",
            "train_loss: tf.Tensor(1.3243061, shape=(), dtype=float32)\n",
            "train_auc: tf.Tensor(0.99957645, shape=(), dtype=float32)\n",
            "- val_loss: tf.Tensor(1.1924586, shape=(), dtype=float32)\n",
            "  val_auc: tf.Tensor(0.98505646, shape=(), dtype=float32)\n",
            "epoch: 4\n",
            "train_loss: tf.Tensor(0.84900445, shape=(), dtype=float32)\n",
            "train_auc: tf.Tensor(0.99980116, shape=(), dtype=float32)\n",
            "train_loss: tf.Tensor(0.8620303, shape=(), dtype=float32)\n",
            "train_auc: tf.Tensor(0.99977446, shape=(), dtype=float32)\n",
            "train_loss: tf.Tensor(0.84469414, shape=(), dtype=float32)\n",
            "train_auc: tf.Tensor(0.99978304, shape=(), dtype=float32)\n",
            "train_loss: tf.Tensor(0.850704, shape=(), dtype=float32)\n",
            "train_auc: tf.Tensor(0.9997673, shape=(), dtype=float32)\n",
            "- val_loss: tf.Tensor(0.94623685, shape=(), dtype=float32)\n",
            "  val_auc: tf.Tensor(0.98804414, shape=(), dtype=float32)\n",
            "epoch: 5\n",
            "train_loss: tf.Tensor(0.55932593, shape=(), dtype=float32)\n",
            "train_auc: tf.Tensor(0.99975306, shape=(), dtype=float32)\n",
            "train_loss: tf.Tensor(0.5927613, shape=(), dtype=float32)\n",
            "train_auc: tf.Tensor(0.99980485, shape=(), dtype=float32)\n",
            "train_loss: tf.Tensor(0.6136553, shape=(), dtype=float32)\n",
            "train_auc: tf.Tensor(0.99976206, shape=(), dtype=float32)\n",
            "train_loss: tf.Tensor(0.6367824, shape=(), dtype=float32)\n",
            "train_auc: tf.Tensor(0.9997463, shape=(), dtype=float32)\n",
            "- val_loss: tf.Tensor(0.8798068, shape=(), dtype=float32)\n",
            "  val_auc: tf.Tensor(0.9869348, shape=(), dtype=float32)\n",
            "epoch: 6\n",
            "train_loss: tf.Tensor(0.46348843, shape=(), dtype=float32)\n",
            "train_auc: tf.Tensor(0.9998142, shape=(), dtype=float32)\n",
            "train_loss: tf.Tensor(0.47888696, shape=(), dtype=float32)\n",
            "train_auc: tf.Tensor(0.99972266, shape=(), dtype=float32)\n",
            "train_loss: tf.Tensor(0.477605, shape=(), dtype=float32)\n",
            "train_auc: tf.Tensor(0.99975973, shape=(), dtype=float32)\n",
            "train_loss: tf.Tensor(0.47386116, shape=(), dtype=float32)\n",
            "train_auc: tf.Tensor(0.99977034, shape=(), dtype=float32)\n",
            "- val_loss: tf.Tensor(0.8123923, shape=(), dtype=float32)\n",
            "  val_auc: tf.Tensor(0.98719406, shape=(), dtype=float32)\n",
            "epoch: 7\n",
            "train_loss: tf.Tensor(0.3485689, shape=(), dtype=float32)\n",
            "train_auc: tf.Tensor(0.99983656, shape=(), dtype=float32)\n",
            "train_loss: tf.Tensor(0.34073132, shape=(), dtype=float32)\n",
            "train_auc: tf.Tensor(0.99980426, shape=(), dtype=float32)\n",
            "train_loss: tf.Tensor(0.35074306, shape=(), dtype=float32)\n",
            "train_auc: tf.Tensor(0.999823, shape=(), dtype=float32)\n",
            "train_loss: tf.Tensor(0.36344552, shape=(), dtype=float32)\n",
            "train_auc: tf.Tensor(0.9998214, shape=(), dtype=float32)\n",
            "- val_loss: tf.Tensor(0.79132414, shape=(), dtype=float32)\n",
            "  val_auc: tf.Tensor(0.987569, shape=(), dtype=float32)\n",
            "epoch: 8\n",
            "train_loss: tf.Tensor(0.29605812, shape=(), dtype=float32)\n",
            "train_auc: tf.Tensor(0.99990314, shape=(), dtype=float32)\n",
            "train_loss: tf.Tensor(0.31060785, shape=(), dtype=float32)\n",
            "train_auc: tf.Tensor(0.9998707, shape=(), dtype=float32)\n",
            "train_loss: tf.Tensor(0.3275167, shape=(), dtype=float32)\n",
            "train_auc: tf.Tensor(0.99987125, shape=(), dtype=float32)\n",
            "train_loss: tf.Tensor(0.32381323, shape=(), dtype=float32)\n",
            "train_auc: tf.Tensor(0.99986666, shape=(), dtype=float32)\n",
            "- val_loss: tf.Tensor(0.78956133, shape=(), dtype=float32)\n",
            "  val_auc: tf.Tensor(0.9864715, shape=(), dtype=float32)\n",
            "epoch: 9\n",
            "train_loss: tf.Tensor(0.12698725, shape=(), dtype=float32)\n",
            "train_auc: tf.Tensor(0.99987996, shape=(), dtype=float32)\n",
            "train_loss: tf.Tensor(0.16860366, shape=(), dtype=float32)\n",
            "train_auc: tf.Tensor(0.99986047, shape=(), dtype=float32)\n",
            "train_loss: tf.Tensor(0.18286145, shape=(), dtype=float32)\n",
            "train_auc: tf.Tensor(0.9998645, shape=(), dtype=float32)\n",
            "train_loss: tf.Tensor(0.20678246, shape=(), dtype=float32)\n",
            "train_auc: tf.Tensor(0.999832, shape=(), dtype=float32)\n",
            "- val_loss: tf.Tensor(0.7949966, shape=(), dtype=float32)\n",
            "  val_auc: tf.Tensor(0.9846977, shape=(), dtype=float32)\n",
            "epoch: 10\n",
            "train_loss: tf.Tensor(0.19674873, shape=(), dtype=float32)\n",
            "train_auc: tf.Tensor(0.9998291, shape=(), dtype=float32)\n",
            "train_loss: tf.Tensor(0.18704419, shape=(), dtype=float32)\n",
            "train_auc: tf.Tensor(0.99985176, shape=(), dtype=float32)\n",
            "train_loss: tf.Tensor(0.20573322, shape=(), dtype=float32)\n",
            "train_auc: tf.Tensor(0.9998552, shape=(), dtype=float32)\n",
            "train_loss: tf.Tensor(0.194537, shape=(), dtype=float32)\n",
            "train_auc: tf.Tensor(0.99987185, shape=(), dtype=float32)\n",
            "- val_loss: tf.Tensor(0.83383614, shape=(), dtype=float32)\n",
            "  val_auc: tf.Tensor(0.9859616, shape=(), dtype=float32)\n",
            "epoch: 11\n",
            "train_loss: tf.Tensor(0.19080733, shape=(), dtype=float32)\n",
            "train_auc: tf.Tensor(0.99983007, shape=(), dtype=float32)\n",
            "train_loss: tf.Tensor(0.20341066, shape=(), dtype=float32)\n",
            "train_auc: tf.Tensor(0.9998273, shape=(), dtype=float32)\n",
            "train_loss: tf.Tensor(0.21950233, shape=(), dtype=float32)\n",
            "train_auc: tf.Tensor(0.99984723, shape=(), dtype=float32)\n",
            "train_loss: tf.Tensor(0.2164406, shape=(), dtype=float32)\n",
            "train_auc: tf.Tensor(0.9998607, shape=(), dtype=float32)\n",
            "- val_loss: tf.Tensor(0.74326915, shape=(), dtype=float32)\n",
            "  val_auc: tf.Tensor(0.98777926, shape=(), dtype=float32)\n",
            "epoch: 12\n",
            "train_loss: tf.Tensor(0.16817395, shape=(), dtype=float32)\n",
            "train_auc: tf.Tensor(0.99985164, shape=(), dtype=float32)\n",
            "train_loss: tf.Tensor(0.16499089, shape=(), dtype=float32)\n",
            "train_auc: tf.Tensor(0.9998673, shape=(), dtype=float32)\n",
            "train_loss: tf.Tensor(0.1724175, shape=(), dtype=float32)\n",
            "train_auc: tf.Tensor(0.9998725, shape=(), dtype=float32)\n",
            "train_loss: tf.Tensor(0.18388833, shape=(), dtype=float32)\n",
            "train_auc: tf.Tensor(0.9998622, shape=(), dtype=float32)\n",
            "- val_loss: tf.Tensor(0.7294336, shape=(), dtype=float32)\n",
            "  val_auc: tf.Tensor(0.9862382, shape=(), dtype=float32)\n",
            "epoch: 13\n",
            "train_loss: tf.Tensor(0.08264428, shape=(), dtype=float32)\n",
            "train_auc: tf.Tensor(0.999889, shape=(), dtype=float32)\n",
            "train_loss: tf.Tensor(0.11517054, shape=(), dtype=float32)\n",
            "train_auc: tf.Tensor(0.9998938, shape=(), dtype=float32)\n",
            "train_loss: tf.Tensor(0.12526833, shape=(), dtype=float32)\n",
            "train_auc: tf.Tensor(0.9998947, shape=(), dtype=float32)\n",
            "train_loss: tf.Tensor(0.114868686, shape=(), dtype=float32)\n",
            "train_auc: tf.Tensor(0.9998703, shape=(), dtype=float32)\n",
            "- val_loss: tf.Tensor(0.78939223, shape=(), dtype=float32)\n",
            "  val_auc: tf.Tensor(0.9859638, shape=(), dtype=float32)\n",
            "epoch: 14\n",
            "train_loss: tf.Tensor(0.15057378, shape=(), dtype=float32)\n",
            "train_auc: tf.Tensor(0.9998146, shape=(), dtype=float32)\n",
            "train_loss: tf.Tensor(0.14598846, shape=(), dtype=float32)\n",
            "train_auc: tf.Tensor(0.9998173, shape=(), dtype=float32)\n",
            "train_loss: tf.Tensor(0.12554939, shape=(), dtype=float32)\n",
            "train_auc: tf.Tensor(0.9998178, shape=(), dtype=float32)\n",
            "train_loss: tf.Tensor(0.13787721, shape=(), dtype=float32)\n",
            "train_auc: tf.Tensor(0.99983156, shape=(), dtype=float32)\n",
            "- val_loss: tf.Tensor(0.82925487, shape=(), dtype=float32)\n",
            "  val_auc: tf.Tensor(0.98459184, shape=(), dtype=float32)\n",
            "epoch: 15\n",
            "train_loss: tf.Tensor(0.08161199, shape=(), dtype=float32)\n",
            "train_auc: tf.Tensor(0.9998645, shape=(), dtype=float32)\n",
            "train_loss: tf.Tensor(0.10303731, shape=(), dtype=float32)\n",
            "train_auc: tf.Tensor(0.99988574, shape=(), dtype=float32)\n",
            "train_loss: tf.Tensor(0.0982149, shape=(), dtype=float32)\n",
            "train_auc: tf.Tensor(0.9998463, shape=(), dtype=float32)\n",
            "train_loss: tf.Tensor(0.084267884, shape=(), dtype=float32)\n",
            "train_auc: tf.Tensor(0.99984765, shape=(), dtype=float32)\n",
            "- val_loss: tf.Tensor(0.8634832, shape=(), dtype=float32)\n",
            "  val_auc: tf.Tensor(0.98283845, shape=(), dtype=float32)\n",
            "epoch: 16\n",
            "train_loss: tf.Tensor(0.080149844, shape=(), dtype=float32)\n",
            "train_auc: tf.Tensor(0.99989194, shape=(), dtype=float32)\n",
            "train_loss: tf.Tensor(0.078161456, shape=(), dtype=float32)\n",
            "train_auc: tf.Tensor(0.99987453, shape=(), dtype=float32)\n",
            "train_loss: tf.Tensor(0.08520345, shape=(), dtype=float32)\n",
            "train_auc: tf.Tensor(0.99983215, shape=(), dtype=float32)\n",
            "train_loss: tf.Tensor(0.10040611, shape=(), dtype=float32)\n",
            "train_auc: tf.Tensor(0.99983215, shape=(), dtype=float32)\n",
            "- val_loss: tf.Tensor(0.8010492, shape=(), dtype=float32)\n",
            "  val_auc: tf.Tensor(0.9848176, shape=(), dtype=float32)\n",
            "epoch: 17\n",
            "train_loss: tf.Tensor(0.05277515, shape=(), dtype=float32)\n",
            "train_auc: tf.Tensor(0.99985904, shape=(), dtype=float32)\n",
            "train_loss: tf.Tensor(0.06684922, shape=(), dtype=float32)\n",
            "train_auc: tf.Tensor(0.9998286, shape=(), dtype=float32)\n",
            "train_loss: tf.Tensor(0.060792554, shape=(), dtype=float32)\n",
            "train_auc: tf.Tensor(0.9998482, shape=(), dtype=float32)\n",
            "train_loss: tf.Tensor(0.071902335, shape=(), dtype=float32)\n",
            "train_auc: tf.Tensor(0.99985474, shape=(), dtype=float32)\n",
            "- val_loss: tf.Tensor(0.8083716, shape=(), dtype=float32)\n",
            "  val_auc: tf.Tensor(0.98463744, shape=(), dtype=float32)\n",
            "epoch: 18\n",
            "train_loss: tf.Tensor(0.05498981, shape=(), dtype=float32)\n",
            "train_auc: tf.Tensor(0.99978423, shape=(), dtype=float32)\n",
            "train_loss: tf.Tensor(0.06934047, shape=(), dtype=float32)\n",
            "train_auc: tf.Tensor(0.9998293, shape=(), dtype=float32)\n",
            "train_loss: tf.Tensor(0.07110609, shape=(), dtype=float32)\n",
            "train_auc: tf.Tensor(0.9998287, shape=(), dtype=float32)\n",
            "train_loss: tf.Tensor(0.07324132, shape=(), dtype=float32)\n",
            "train_auc: tf.Tensor(0.9998319, shape=(), dtype=float32)\n",
            "- val_loss: tf.Tensor(0.83473486, shape=(), dtype=float32)\n",
            "  val_auc: tf.Tensor(0.98492354, shape=(), dtype=float32)\n",
            "epoch: 19\n",
            "train_loss: tf.Tensor(0.04819364, shape=(), dtype=float32)\n",
            "train_auc: tf.Tensor(0.99982417, shape=(), dtype=float32)\n",
            "train_loss: tf.Tensor(0.067094535, shape=(), dtype=float32)\n",
            "train_auc: tf.Tensor(0.9998234, shape=(), dtype=float32)\n",
            "train_loss: tf.Tensor(0.08076138, shape=(), dtype=float32)\n",
            "train_auc: tf.Tensor(0.9997959, shape=(), dtype=float32)\n",
            "train_loss: tf.Tensor(0.06881434, shape=(), dtype=float32)\n",
            "train_auc: tf.Tensor(0.9997962, shape=(), dtype=float32)\n",
            "- val_loss: tf.Tensor(0.88672614, shape=(), dtype=float32)\n",
            "  val_auc: tf.Tensor(0.98149115, shape=(), dtype=float32)\n"
          ],
          "name": "stdout"
        }
      ]
    },
    {
      "cell_type": "markdown",
      "metadata": {
        "id": "EjO7T0jBIzBJ"
      },
      "source": [
        "Training Plots"
      ]
    },
    {
      "cell_type": "code",
      "metadata": {
        "id": "6VSmBdwT1ib4",
        "colab": {
          "base_uri": "https://localhost:8080/",
          "height": 401
        },
        "outputId": "b9176b3a-2218-4951-fdbb-084128c458da"
      },
      "source": [
        "# Loss Plot\r\n",
        "df = pd.DataFrame(np.array(losses).T, columns=['training', 'validation'])\r\n",
        "df.index.name='epoch'\r\n",
        "plots = sns.relplot(data=df, kind='line')\r\n",
        "plots.set_axis_labels('epochs', 'loss')"
      ],
      "execution_count": 34,
      "outputs": [
        {
          "output_type": "execute_result",
          "data": {
            "text/plain": [
              "<seaborn.axisgrid.FacetGrid at 0x7f7e39f5df10>"
            ]
          },
          "metadata": {
            "tags": []
          },
          "execution_count": 34
        },
        {
          "output_type": "display_data",
          "data": {
            "image/png": "[encoded data removed]",
            "text/plain": [
              "<Figure size 445.375x360 with 1 Axes>"
            ]
          },
          "metadata": {
            "tags": [],
            "needs_background": "light"
          }
        }
      ]
    },
    {
      "cell_type": "code",
      "metadata": {
        "id": "dpacst2F1ib7",
        "colab": {
          "base_uri": "https://localhost:8080/",
          "height": 401
        },
        "outputId": "1f0e373e-02d9-4a1c-fc75-9164c40754cd"
      },
      "source": [
        "# ROC-AUC Plot\r\n",
        "df = pd.DataFrame(np.array(auc).T, columns=['training', 'validation'])\r\n",
        "df.index.name='epoch'\r\n",
        "plots = sns.relplot(data=df, kind='line')\r\n",
        "plots.set_axis_labels('epochs', 'ROC-AUC')"
      ],
      "execution_count": 35,
      "outputs": [
        {
          "output_type": "execute_result",
          "data": {
            "text/plain": [
              "<seaborn.axisgrid.FacetGrid at 0x7f7e38895b50>"
            ]
          },
          "metadata": {
            "tags": []
          },
          "execution_count": 35
        },
        {
          "output_type": "display_data",
          "data": {
            "image/png": "[encoded data removed]",
            "text/plain": [
              "<Figure size 445.375x360 with 1 Axes>"
            ]
          },
          "metadata": {
            "tags": [],
            "needs_background": "light"
          }
        }
      ]
    },
    {
      "cell_type": "markdown",
      "metadata": {
        "id": "xM2gvBM11ib-"
      },
      "source": [
        "## 7. Implement final translation model"
      ]
    },
    {
      "cell_type": "markdown",
      "metadata": {
        "id": "HWEcN-wMI8sp"
      },
      "source": [
        "Translation function"
      ]
    },
    {
      "cell_type": "code",
      "metadata": {
        "id": "bGnQtE7L1icA"
      },
      "source": [
        "def translate(english_text, max_german_words, encoder_model, decoder_model,\r\n",
        "              german_tokenizer):\r\n",
        "    # note: use batch_size 1 in encoder/decoders!\r\n",
        "\r\n",
        "    # prepare text for preprocessor\r\n",
        "    tab_data = [''.join([english_text,'\\t']),  # repeat sample twice \r\n",
        "                ''.join([english_text,'\\t'])]  # because one is used in validation split \r\n",
        "\r\n",
        "    # prepare text for encoder\r\n",
        "    # (note: make sure to suppress the tokenizer this normally produces \r\n",
        "    # b/c it might not match the tokenizer model was trained with)\r\n",
        "    train_ds, _, _, start_token, end_token = \\\r\n",
        "        prep_dataset(tab_data, translation_mode=True)\r\n",
        "\r\n",
        "    translation_tokens = []\r\n",
        "\r\n",
        "    # Get first German word translation\r\n",
        "    for english, german in train_ds:  # train_ds only contains one entry\r\n",
        "\r\n",
        "        # encode English inputs\r\n",
        "        initial_states = encoder_model(english)  \r\n",
        "\r\n",
        "        # get decoder input for <SOS> to initialize translation loop\r\n",
        "        german_input, _ = german_input_output(german)\r\n",
        "\r\n",
        "    # generate words\r\n",
        "    for word in range(max_german_words): \r\n",
        "        \r\n",
        "        # decoding predicted German ouputs\r\n",
        "        predictions, initial_states = \\\r\n",
        "            decoder_model(german_input, initial_states)\r\n",
        "\r\n",
        "        #print(predictions)\r\n",
        "\r\n",
        "        # choose highest probability word\r\n",
        "        indx = np.argmax(predictions[0, 0, :])\r\n",
        "        translation_tokens.append(int(indx))\r\n",
        "\r\n",
        "        # cue chosen word as input for next translation step \r\n",
        "        german_input = tf.constant([[indx]])\r\n",
        "\r\n",
        "        # early stopping condition: end of sentence token produced\r\n",
        "        if indx == end_token:\r\n",
        "            translation_tokens = translation_tokens[:-1]  # drop end token\r\n",
        "            break  # exit loop\r\n",
        "\r\n",
        "    # decode german tokens to text\r\n",
        "    translation_tokens = list([translation_tokens])\r\n",
        "    print(translation_tokens)\r\n",
        "    translation = german_tokenizer.sequences_to_texts(translation_tokens)\r\n",
        "  \r\n",
        "    return  translation[0]"
      ],
      "execution_count": 36,
      "outputs": []
    },
    {
      "cell_type": "markdown",
      "metadata": {
        "id": "-BiNIXI-JB4r"
      },
      "source": [
        "Load models"
      ]
    },
    {
      "cell_type": "code",
      "metadata": {
        "id": "mqh-eetMWFWk",
        "colab": {
          "base_uri": "https://localhost:8080/"
        },
        "outputId": "77ac7b00-7b38-442b-bcaa-784e14319cfb"
      },
      "source": [
        "# initialize prediction models (batch size 1)\r\n",
        "# encoder model required specified bacth size = 1\r\n",
        "encoder_model_predictor = EncoderModel(batch_size=1)\r\n",
        "decoder_model_predictor = decoder_model  # original model works\r\n",
        "\r\n",
        "# transfer trained weights to encoder prediction model\r\n",
        "enc_trained_weights = encoder_model.get_weights()\r\n",
        "encoder_model_predictor.set_weights(enc_trained_weights)\r\n",
        "\r\n",
        "# save prediction models\r\n",
        "encoder_model_predictor.save(PREDICTION_MODEL_DIR + 'encoder/')\r\n",
        "decoder_model_predictor.save(PREDICTION_MODEL_DIR + 'decoder/')"
      ],
      "execution_count": 37,
      "outputs": [
        {
          "output_type": "stream",
          "text": [
            "WARNING:absl:Found untraced functions such as lstm_cell_5_layer_call_and_return_conditional_losses, lstm_cell_5_layer_call_fn, lstm_cell_5_layer_call_fn, lstm_cell_5_layer_call_and_return_conditional_losses, lstm_cell_5_layer_call_and_return_conditional_losses while saving (showing 5 of 5). These functions will not be directly callable after loading.\n",
            "WARNING:absl:Found untraced functions such as lstm_cell_5_layer_call_and_return_conditional_losses, lstm_cell_5_layer_call_fn, lstm_cell_5_layer_call_fn, lstm_cell_5_layer_call_and_return_conditional_losses, lstm_cell_5_layer_call_and_return_conditional_losses while saving (showing 5 of 5). These functions will not be directly callable after loading.\n"
          ],
          "name": "stderr"
        },
        {
          "output_type": "stream",
          "text": [
            "INFO:tensorflow:Assets written to: /content/gdrive/MyDrive/Colab_Notebooks/models/text_translation/prediction_model/encoder/assets\n"
          ],
          "name": "stdout"
        },
        {
          "output_type": "stream",
          "text": [
            "INFO:tensorflow:Assets written to: /content/gdrive/MyDrive/Colab_Notebooks/models/text_translation/prediction_model/encoder/assets\n",
            "WARNING:absl:Found untraced functions such as lstm_cell_4_layer_call_and_return_conditional_losses, lstm_cell_4_layer_call_fn, lstm_cell_4_layer_call_fn, lstm_cell_4_layer_call_and_return_conditional_losses, lstm_cell_4_layer_call_and_return_conditional_losses while saving (showing 5 of 5). These functions will not be directly callable after loading.\n",
            "WARNING:absl:Found untraced functions such as lstm_cell_4_layer_call_and_return_conditional_losses, lstm_cell_4_layer_call_fn, lstm_cell_4_layer_call_fn, lstm_cell_4_layer_call_and_return_conditional_losses, lstm_cell_4_layer_call_and_return_conditional_losses while saving (showing 5 of 5). These functions will not be directly callable after loading.\n"
          ],
          "name": "stderr"
        },
        {
          "output_type": "stream",
          "text": [
            "INFO:tensorflow:Assets written to: /content/gdrive/MyDrive/Colab_Notebooks/models/text_translation/prediction_model/decoder/assets\n"
          ],
          "name": "stdout"
        },
        {
          "output_type": "stream",
          "text": [
            "INFO:tensorflow:Assets written to: /content/gdrive/MyDrive/Colab_Notebooks/models/text_translation/prediction_model/decoder/assets\n"
          ],
          "name": "stderr"
        }
      ]
    },
    {
      "cell_type": "code",
      "metadata": {
        "id": "wrZDL3rtHq3e"
      },
      "source": [
        "# pick 5 examples\r\n",
        "num_samples = 5\r\n",
        "import random\r\n",
        "indices = random.sample(range(len(english)), num_samples)"
      ],
      "execution_count": 38,
      "outputs": []
    },
    {
      "cell_type": "code",
      "metadata": {
        "id": "nP6TkmkNWSy2",
        "colab": {
          "base_uri": "https://localhost:8080/"
        },
        "outputId": "096734b0-0c1b-4e22-b186-cca7f9233314"
      },
      "source": [
        "# translate some examples\r\n",
        "for indx in indices:\r\n",
        "    english_text = english[indx]\r\n",
        "    true_translation = german[indx]\r\n",
        "    machine_translation = translate(english_text, \r\n",
        "                                    max_german_words=20, \r\n",
        "                                    encoder_model=encoder_model_predictor, \r\n",
        "                                    decoder_model=decoder_model_predictor,\r\n",
        "                                    german_tokenizer=german_tokenizer)\r\n",
        "    \r\n",
        "    print(f'English: {english_text}\\nTranslation: {machine_translation}\\n' + \\\r\n",
        "          f'Actual: {true_translation}\\n')"
      ],
      "execution_count": 39,
      "outputs": [
        {
          "output_type": "stream",
          "text": [
            "[[2912, 4059, 3939]]\n",
            "English: You learn fast.\n",
            "Translation: ihr du ruhig\n",
            "Actual: <SOS> du lernst schnell . <EOS>\n",
            "\n",
            "[[125, 2662, 757, 1529]]\n",
            "English: I'm not a teacher.\n",
            "Translation: ich bin kein heiliger\n",
            "Actual: <SOS> ich bin kein lehrer . <EOS>\n",
            "\n",
            "[[125, 3146, 5253, 1222, 2744]]\n",
            "English: I took off my hat.\n",
            "Translation: ich habe meinen platz gebracht\n",
            "Actual: <SOS> ich habe meinen hut abgenommen . <EOS>\n",
            "\n",
            "[[4181, 3062, 2552, 1282, 2997]]\n",
            "English: Give Tom a drink.\n",
            "Translation: gib tom etwas zu trinken\n",
            "Actual: <SOS> gib tom etwas zu trinken . <EOS>\n",
            "\n",
            "[[125, 3146, 5015, 4699]]\n",
            "English: I have a cold.\n",
            "Translation: ich habe einen schnupfen\n",
            "Actual: <SOS> ich bin erkaeltet . <EOS>\n",
            "\n"
          ],
          "name": "stdout"
        }
      ]
    },
    {
      "cell_type": "code",
      "metadata": {
        "id": "c5HeX12uPT51"
      },
      "source": [
        ""
      ],
      "execution_count": 39,
      "outputs": []
    }
  ]
}